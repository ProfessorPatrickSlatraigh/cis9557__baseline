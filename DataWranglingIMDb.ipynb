{
  "nbformat": 4,
  "nbformat_minor": 0,
  "metadata": {
    "colab": {
      "provenance": [],
      "include_colab_link": true
    },
    "kernelspec": {
      "name": "python3",
      "display_name": "Python 3"
    },
    "language_info": {
      "name": "python"
    }
  },
  "cells": [
    {
      "cell_type": "markdown",
      "metadata": {
        "id": "view-in-github",
        "colab_type": "text"
      },
      "source": [
        "<a href=\"https://colab.research.google.com/github/ProfessorPatrickSlatraigh/cis9557__baseline/blob/main/DataWranglingIMDb.ipynb\" target=\"_parent\"><img src=\"https://colab.research.google.com/assets/colab-badge.svg\" alt=\"Open In Colab\"/></a>"
      ]
    },
    {
      "cell_type": "markdown",
      "source": [
        "#Data Cleansing Approach    \n",
        "\n",
        "\n",
        "**A shared resource for the discovery and cleansing steps to consider when working with datasets for Data Mining.  Not every step may need to be processed in each situation, but it is valuable to consider every step and whether it is applicable.**\n",
        "\n",
        "\n",
        "Prepared by Professor Patrck, Spring 2022; updates: 2023, 2024, 2025.   \n",
        "\n"
      ],
      "metadata": {
        "id": "Ar1dlppwcrPL"
      }
    },
    {
      "cell_type": "markdown",
      "source": [
        "This notebook contains the following sections:  \n",
        "  \n",
        "I.  Example Approach - Data Cleansing: IMDb Movie Dataset  \n",
        "  \n",
        "II. Practice Exercise  \n",
        "  "
      ],
      "metadata": {
        "id": "VQF7GnkXeeCw"
      }
    },
    {
      "cell_type": "markdown",
      "source": [
        "\n",
        "\n",
        "---\n",
        "\n"
      ],
      "metadata": {
        "id": "oJQ4mRpQdYA-"
      }
    },
    {
      "cell_type": "markdown",
      "source": [
        "##I. Example Approach - Data Cleansing: IMDb Movie Dataset"
      ],
      "metadata": {
        "id": "OJ5RDAm6SBXt"
      }
    },
    {
      "cell_type": "markdown",
      "source": [
        "Each problem and the data sources considered will raise unique considerations but there are several typical steps to data extraction, discovery, and transformation which are helpful to consider.    \n",
        "\n",
        "The following is derived from the work of Anmol Tomar in CodeX, entitled \"[Every Data Analysis in 10 steps!  Adding structure to your data analysis!](https://medium.com/codex/every-data-analysis-in-10-steps-960dc7e7f00b)\"\n",
        "\n",
        "**This notebook extends the ten (10) steps in the original article by Anmol Tomar into 13 steps (to include steps related to duplicate rows and the transformation/wrangling of data elements.**    \n"
      ],
      "metadata": {
        "id": "UGMvsEJYSHV3"
      }
    },
    {
      "cell_type": "markdown",
      "source": [
        "###File Upload"
      ],
      "metadata": {
        "id": "pygOTl3wWVxc"
      }
    },
    {
      "cell_type": "markdown",
      "source": [
        "**IMDB Dataset**    \n",
        "\n",
        "For  illustration purposes, this analysis uses the Kaggle IMDB dataset for the top 1000 movies to understand the features/traits of top IMDB movies by applying a 10 step-process.    *The Kaggle file used in this notebook differs from the source file used by Anmol Tomar in the article referenced above.*  \n",
        "\n",
        "A copy of the file is hosted on Professor Patrick's GitHub and can be accsed with `!curl` to upload a copy to the `content` folder in Colab.    \n"
      ],
      "metadata": {
        "id": "T_eWdtgSS3Ff"
      }
    },
    {
      "cell_type": "code",
      "source": [
        "!curl \"https://raw.githubusercontent.com/ProfessorPatrickSlatraigh/data/main/IMDB_top_1000.csv\" -o imdb_top_1000.csv"
      ],
      "metadata": {
        "id": "E0WhUYu4Vvxi",
        "colab": {
          "base_uri": "https://localhost:8080/"
        },
        "outputId": "d972a607-a9fa-4662-bd09-33152282d07a"
      },
      "execution_count": null,
      "outputs": [
        {
          "output_type": "stream",
          "name": "stdout",
          "text": [
            "  % Total    % Received % Xferd  Average Speed   Time    Time     Time  Current\n",
            "                                 Dload  Upload   Total   Spent    Left  Speed\n",
            "100  343k  100  343k    0     0   702k      0 --:--:-- --:--:-- --:--:--  704k\n"
          ]
        }
      ]
    },
    {
      "cell_type": "markdown",
      "source": [
        "<i>After execution of the line of code above, there should be a copy of CSV file <b>`imdb_top_1000.csv`</b> in the current working directory.</i>    "
      ],
      "metadata": {
        "id": "TtMqeUfzfm3Q"
      }
    },
    {
      "cell_type": "markdown",
      "source": [
        "###Import Packages    \n",
        "\n",
        "The load, discovery, and transformation steps will only require that the `pandas` and `matplotlib` packages be imported.    \n",
        "\n",
        "To add functionality to data tables in Colab, import `data_table` from `google.colab`."
      ],
      "metadata": {
        "id": "6UWCV11SWS7D"
      }
    },
    {
      "cell_type": "code",
      "source": [
        "# import our packages\n",
        "import pandas as pd\n",
        "import matplotlib.pyplot as plt\n",
        "\n",
        "from google.colab import data_table\n",
        "data_table.enable_dataframe_formatter()"
      ],
      "metadata": {
        "id": "BrWmty-JTQaC"
      },
      "execution_count": null,
      "outputs": []
    },
    {
      "cell_type": "markdown",
      "source": [
        "###Read the Data into a Dataframe    \n"
      ],
      "metadata": {
        "id": "tmcsf6BMWsor"
      }
    },
    {
      "cell_type": "code",
      "source": [
        "# reading the data\n",
        "df_movies =  pd.read_csv('imdb_top_1000.csv')"
      ],
      "metadata": {
        "id": "A3uuHsALW40Q"
      },
      "execution_count": null,
      "outputs": []
    },
    {
      "cell_type": "markdown",
      "source": [
        "###1. Summarize the Columns    \n",
        "\n"
      ],
      "metadata": {
        "id": "14FSXQL0W8Q3"
      }
    },
    {
      "cell_type": "code",
      "source": [
        "# summary of the columns\n",
        "df_movies.describe(include = 'all')"
      ],
      "metadata": {
        "id": "zAJV5RJwXA8b",
        "colab": {
          "base_uri": "https://localhost:8080/",
          "height": 390
        },
        "outputId": "06556785-8a86-4054-d95d-5270104278c2"
      },
      "execution_count": null,
      "outputs": [
        {
          "output_type": "execute_result",
          "data": {
            "text/plain": [
              "         Unnamed: 0                        Title Certificate Duration  Genre  \\\n",
              "count   1007.000000                         1007         980     1007   1007   \n",
              "unique          NaN                          398          11      114    130   \n",
              "top             NaN  302. Throne of Blood (1957)           R  110 min  Drama   \n",
              "freq            NaN                            9         348       42    100   \n",
              "mean     502.951341                          NaN         NaN      NaN    NaN   \n",
              "std      290.756996                          NaN         NaN      NaN    NaN   \n",
              "min        0.000000                          NaN         NaN      NaN    NaN   \n",
              "25%      251.500000                          NaN         NaN      NaN    NaN   \n",
              "50%      503.000000                          NaN         NaN      NaN    NaN   \n",
              "75%      754.500000                          NaN         NaN      NaN    NaN   \n",
              "max      999.000000                          NaN         NaN      NaN    NaN   \n",
              "\n",
              "               Rate   Metascore  \\\n",
              "count   1007.000000  715.000000   \n",
              "unique          NaN         NaN   \n",
              "top             NaN         NaN   \n",
              "freq            NaN         NaN   \n",
              "mean       8.097021   80.983217   \n",
              "std        0.169114    9.804518   \n",
              "min        8.000000   61.000000   \n",
              "25%        8.000000   73.000000   \n",
              "50%        8.000000   82.000000   \n",
              "75%        8.100000   88.000000   \n",
              "max        9.300000  100.000000   \n",
              "\n",
              "                                              Description  \\\n",
              "count                                                1007   \n",
              "unique                                                398   \n",
              "top     A war-hardened general, egged on by his ambiti...   \n",
              "freq                                                    9   \n",
              "mean                                                  NaN   \n",
              "std                                                   NaN   \n",
              "min                                                   NaN   \n",
              "25%                                                   NaN   \n",
              "50%                                                   NaN   \n",
              "75%                                                   NaN   \n",
              "max                                                   NaN   \n",
              "\n",
              "                                                     Cast           Info  \n",
              "count                                                1007           1007  \n",
              "unique                                                398            398  \n",
              "top     Director: Akira Kurosawa | Stars: Toshirô Mifu...  Votes: 45,579  \n",
              "freq                                                    9              9  \n",
              "mean                                                  NaN            NaN  \n",
              "std                                                   NaN            NaN  \n",
              "min                                                   NaN            NaN  \n",
              "25%                                                   NaN            NaN  \n",
              "50%                                                   NaN            NaN  \n",
              "75%                                                   NaN            NaN  \n",
              "max                                                   NaN            NaN  "
            ],
            "text/html": [
              "\n",
              "  <div id=\"df-01545398-99f0-413b-b40f-e71139c410d5\" class=\"colab-df-container\">\n",
              "    <div>\n",
              "<style scoped>\n",
              "    .dataframe tbody tr th:only-of-type {\n",
              "        vertical-align: middle;\n",
              "    }\n",
              "\n",
              "    .dataframe tbody tr th {\n",
              "        vertical-align: top;\n",
              "    }\n",
              "\n",
              "    .dataframe thead th {\n",
              "        text-align: right;\n",
              "    }\n",
              "</style>\n",
              "<table border=\"1\" class=\"dataframe\">\n",
              "  <thead>\n",
              "    <tr style=\"text-align: right;\">\n",
              "      <th></th>\n",
              "      <th>Unnamed: 0</th>\n",
              "      <th>Title</th>\n",
              "      <th>Certificate</th>\n",
              "      <th>Duration</th>\n",
              "      <th>Genre</th>\n",
              "      <th>Rate</th>\n",
              "      <th>Metascore</th>\n",
              "      <th>Description</th>\n",
              "      <th>Cast</th>\n",
              "      <th>Info</th>\n",
              "    </tr>\n",
              "  </thead>\n",
              "  <tbody>\n",
              "    <tr>\n",
              "      <th>count</th>\n",
              "      <td>1007.000000</td>\n",
              "      <td>1007</td>\n",
              "      <td>980</td>\n",
              "      <td>1007</td>\n",
              "      <td>1007</td>\n",
              "      <td>1007.000000</td>\n",
              "      <td>715.000000</td>\n",
              "      <td>1007</td>\n",
              "      <td>1007</td>\n",
              "      <td>1007</td>\n",
              "    </tr>\n",
              "    <tr>\n",
              "      <th>unique</th>\n",
              "      <td>NaN</td>\n",
              "      <td>398</td>\n",
              "      <td>11</td>\n",
              "      <td>114</td>\n",
              "      <td>130</td>\n",
              "      <td>NaN</td>\n",
              "      <td>NaN</td>\n",
              "      <td>398</td>\n",
              "      <td>398</td>\n",
              "      <td>398</td>\n",
              "    </tr>\n",
              "    <tr>\n",
              "      <th>top</th>\n",
              "      <td>NaN</td>\n",
              "      <td>302. Throne of Blood (1957)</td>\n",
              "      <td>R</td>\n",
              "      <td>110 min</td>\n",
              "      <td>Drama</td>\n",
              "      <td>NaN</td>\n",
              "      <td>NaN</td>\n",
              "      <td>A war-hardened general, egged on by his ambiti...</td>\n",
              "      <td>Director: Akira Kurosawa | Stars: Toshirô Mifu...</td>\n",
              "      <td>Votes: 45,579</td>\n",
              "    </tr>\n",
              "    <tr>\n",
              "      <th>freq</th>\n",
              "      <td>NaN</td>\n",
              "      <td>9</td>\n",
              "      <td>348</td>\n",
              "      <td>42</td>\n",
              "      <td>100</td>\n",
              "      <td>NaN</td>\n",
              "      <td>NaN</td>\n",
              "      <td>9</td>\n",
              "      <td>9</td>\n",
              "      <td>9</td>\n",
              "    </tr>\n",
              "    <tr>\n",
              "      <th>mean</th>\n",
              "      <td>502.951341</td>\n",
              "      <td>NaN</td>\n",
              "      <td>NaN</td>\n",
              "      <td>NaN</td>\n",
              "      <td>NaN</td>\n",
              "      <td>8.097021</td>\n",
              "      <td>80.983217</td>\n",
              "      <td>NaN</td>\n",
              "      <td>NaN</td>\n",
              "      <td>NaN</td>\n",
              "    </tr>\n",
              "    <tr>\n",
              "      <th>std</th>\n",
              "      <td>290.756996</td>\n",
              "      <td>NaN</td>\n",
              "      <td>NaN</td>\n",
              "      <td>NaN</td>\n",
              "      <td>NaN</td>\n",
              "      <td>0.169114</td>\n",
              "      <td>9.804518</td>\n",
              "      <td>NaN</td>\n",
              "      <td>NaN</td>\n",
              "      <td>NaN</td>\n",
              "    </tr>\n",
              "    <tr>\n",
              "      <th>min</th>\n",
              "      <td>0.000000</td>\n",
              "      <td>NaN</td>\n",
              "      <td>NaN</td>\n",
              "      <td>NaN</td>\n",
              "      <td>NaN</td>\n",
              "      <td>8.000000</td>\n",
              "      <td>61.000000</td>\n",
              "      <td>NaN</td>\n",
              "      <td>NaN</td>\n",
              "      <td>NaN</td>\n",
              "    </tr>\n",
              "    <tr>\n",
              "      <th>25%</th>\n",
              "      <td>251.500000</td>\n",
              "      <td>NaN</td>\n",
              "      <td>NaN</td>\n",
              "      <td>NaN</td>\n",
              "      <td>NaN</td>\n",
              "      <td>8.000000</td>\n",
              "      <td>73.000000</td>\n",
              "      <td>NaN</td>\n",
              "      <td>NaN</td>\n",
              "      <td>NaN</td>\n",
              "    </tr>\n",
              "    <tr>\n",
              "      <th>50%</th>\n",
              "      <td>503.000000</td>\n",
              "      <td>NaN</td>\n",
              "      <td>NaN</td>\n",
              "      <td>NaN</td>\n",
              "      <td>NaN</td>\n",
              "      <td>8.000000</td>\n",
              "      <td>82.000000</td>\n",
              "      <td>NaN</td>\n",
              "      <td>NaN</td>\n",
              "      <td>NaN</td>\n",
              "    </tr>\n",
              "    <tr>\n",
              "      <th>75%</th>\n",
              "      <td>754.500000</td>\n",
              "      <td>NaN</td>\n",
              "      <td>NaN</td>\n",
              "      <td>NaN</td>\n",
              "      <td>NaN</td>\n",
              "      <td>8.100000</td>\n",
              "      <td>88.000000</td>\n",
              "      <td>NaN</td>\n",
              "      <td>NaN</td>\n",
              "      <td>NaN</td>\n",
              "    </tr>\n",
              "    <tr>\n",
              "      <th>max</th>\n",
              "      <td>999.000000</td>\n",
              "      <td>NaN</td>\n",
              "      <td>NaN</td>\n",
              "      <td>NaN</td>\n",
              "      <td>NaN</td>\n",
              "      <td>9.300000</td>\n",
              "      <td>100.000000</td>\n",
              "      <td>NaN</td>\n",
              "      <td>NaN</td>\n",
              "      <td>NaN</td>\n",
              "    </tr>\n",
              "  </tbody>\n",
              "</table>\n",
              "</div>\n",
              "    <div class=\"colab-df-buttons\">\n",
              "\n",
              "  <div class=\"colab-df-container\">\n",
              "    <button class=\"colab-df-convert\" onclick=\"convertToInteractive('df-01545398-99f0-413b-b40f-e71139c410d5')\"\n",
              "            title=\"Convert this dataframe to an interactive table.\"\n",
              "            style=\"display:none;\">\n",
              "\n",
              "  <svg xmlns=\"http://www.w3.org/2000/svg\" height=\"24px\" viewBox=\"0 -960 960 960\">\n",
              "    <path d=\"M120-120v-720h720v720H120Zm60-500h600v-160H180v160Zm220 220h160v-160H400v160Zm0 220h160v-160H400v160ZM180-400h160v-160H180v160Zm440 0h160v-160H620v160ZM180-180h160v-160H180v160Zm440 0h160v-160H620v160Z\"/>\n",
              "  </svg>\n",
              "    </button>\n",
              "\n",
              "  <style>\n",
              "    .colab-df-container {\n",
              "      display:flex;\n",
              "      gap: 12px;\n",
              "    }\n",
              "\n",
              "    .colab-df-convert {\n",
              "      background-color: #E8F0FE;\n",
              "      border: none;\n",
              "      border-radius: 50%;\n",
              "      cursor: pointer;\n",
              "      display: none;\n",
              "      fill: #1967D2;\n",
              "      height: 32px;\n",
              "      padding: 0 0 0 0;\n",
              "      width: 32px;\n",
              "    }\n",
              "\n",
              "    .colab-df-convert:hover {\n",
              "      background-color: #E2EBFA;\n",
              "      box-shadow: 0px 1px 2px rgba(60, 64, 67, 0.3), 0px 1px 3px 1px rgba(60, 64, 67, 0.15);\n",
              "      fill: #174EA6;\n",
              "    }\n",
              "\n",
              "    .colab-df-buttons div {\n",
              "      margin-bottom: 4px;\n",
              "    }\n",
              "\n",
              "    [theme=dark] .colab-df-convert {\n",
              "      background-color: #3B4455;\n",
              "      fill: #D2E3FC;\n",
              "    }\n",
              "\n",
              "    [theme=dark] .colab-df-convert:hover {\n",
              "      background-color: #434B5C;\n",
              "      box-shadow: 0px 1px 3px 1px rgba(0, 0, 0, 0.15);\n",
              "      filter: drop-shadow(0px 1px 2px rgba(0, 0, 0, 0.3));\n",
              "      fill: #FFFFFF;\n",
              "    }\n",
              "  </style>\n",
              "\n",
              "    <script>\n",
              "      const buttonEl =\n",
              "        document.querySelector('#df-01545398-99f0-413b-b40f-e71139c410d5 button.colab-df-convert');\n",
              "      buttonEl.style.display =\n",
              "        google.colab.kernel.accessAllowed ? 'block' : 'none';\n",
              "\n",
              "      async function convertToInteractive(key) {\n",
              "        const element = document.querySelector('#df-01545398-99f0-413b-b40f-e71139c410d5');\n",
              "        const dataTable =\n",
              "          await google.colab.kernel.invokeFunction('convertToInteractive',\n",
              "                                                    [key], {});\n",
              "        if (!dataTable) return;\n",
              "\n",
              "        const docLinkHtml = 'Like what you see? Visit the ' +\n",
              "          '<a target=\"_blank\" href=https://colab.research.google.com/notebooks/data_table.ipynb>data table notebook</a>'\n",
              "          + ' to learn more about interactive tables.';\n",
              "        element.innerHTML = '';\n",
              "        dataTable['output_type'] = 'display_data';\n",
              "        await google.colab.output.renderOutput(dataTable, element);\n",
              "        const docLink = document.createElement('div');\n",
              "        docLink.innerHTML = docLinkHtml;\n",
              "        element.appendChild(docLink);\n",
              "      }\n",
              "    </script>\n",
              "  </div>\n",
              "\n",
              "\n",
              "<div id=\"df-4e20713e-0464-4caf-9d2c-ef52b741e435\">\n",
              "  <button class=\"colab-df-quickchart\" onclick=\"quickchart('df-4e20713e-0464-4caf-9d2c-ef52b741e435')\"\n",
              "            title=\"Suggest charts\"\n",
              "            style=\"display:none;\">\n",
              "\n",
              "<svg xmlns=\"http://www.w3.org/2000/svg\" height=\"24px\"viewBox=\"0 0 24 24\"\n",
              "     width=\"24px\">\n",
              "    <g>\n",
              "        <path d=\"M19 3H5c-1.1 0-2 .9-2 2v14c0 1.1.9 2 2 2h14c1.1 0 2-.9 2-2V5c0-1.1-.9-2-2-2zM9 17H7v-7h2v7zm4 0h-2V7h2v10zm4 0h-2v-4h2v4z\"/>\n",
              "    </g>\n",
              "</svg>\n",
              "  </button>\n",
              "\n",
              "<style>\n",
              "  .colab-df-quickchart {\n",
              "      --bg-color: #E8F0FE;\n",
              "      --fill-color: #1967D2;\n",
              "      --hover-bg-color: #E2EBFA;\n",
              "      --hover-fill-color: #174EA6;\n",
              "      --disabled-fill-color: #AAA;\n",
              "      --disabled-bg-color: #DDD;\n",
              "  }\n",
              "\n",
              "  [theme=dark] .colab-df-quickchart {\n",
              "      --bg-color: #3B4455;\n",
              "      --fill-color: #D2E3FC;\n",
              "      --hover-bg-color: #434B5C;\n",
              "      --hover-fill-color: #FFFFFF;\n",
              "      --disabled-bg-color: #3B4455;\n",
              "      --disabled-fill-color: #666;\n",
              "  }\n",
              "\n",
              "  .colab-df-quickchart {\n",
              "    background-color: var(--bg-color);\n",
              "    border: none;\n",
              "    border-radius: 50%;\n",
              "    cursor: pointer;\n",
              "    display: none;\n",
              "    fill: var(--fill-color);\n",
              "    height: 32px;\n",
              "    padding: 0;\n",
              "    width: 32px;\n",
              "  }\n",
              "\n",
              "  .colab-df-quickchart:hover {\n",
              "    background-color: var(--hover-bg-color);\n",
              "    box-shadow: 0 1px 2px rgba(60, 64, 67, 0.3), 0 1px 3px 1px rgba(60, 64, 67, 0.15);\n",
              "    fill: var(--button-hover-fill-color);\n",
              "  }\n",
              "\n",
              "  .colab-df-quickchart-complete:disabled,\n",
              "  .colab-df-quickchart-complete:disabled:hover {\n",
              "    background-color: var(--disabled-bg-color);\n",
              "    fill: var(--disabled-fill-color);\n",
              "    box-shadow: none;\n",
              "  }\n",
              "\n",
              "  .colab-df-spinner {\n",
              "    border: 2px solid var(--fill-color);\n",
              "    border-color: transparent;\n",
              "    border-bottom-color: var(--fill-color);\n",
              "    animation:\n",
              "      spin 1s steps(1) infinite;\n",
              "  }\n",
              "\n",
              "  @keyframes spin {\n",
              "    0% {\n",
              "      border-color: transparent;\n",
              "      border-bottom-color: var(--fill-color);\n",
              "      border-left-color: var(--fill-color);\n",
              "    }\n",
              "    20% {\n",
              "      border-color: transparent;\n",
              "      border-left-color: var(--fill-color);\n",
              "      border-top-color: var(--fill-color);\n",
              "    }\n",
              "    30% {\n",
              "      border-color: transparent;\n",
              "      border-left-color: var(--fill-color);\n",
              "      border-top-color: var(--fill-color);\n",
              "      border-right-color: var(--fill-color);\n",
              "    }\n",
              "    40% {\n",
              "      border-color: transparent;\n",
              "      border-right-color: var(--fill-color);\n",
              "      border-top-color: var(--fill-color);\n",
              "    }\n",
              "    60% {\n",
              "      border-color: transparent;\n",
              "      border-right-color: var(--fill-color);\n",
              "    }\n",
              "    80% {\n",
              "      border-color: transparent;\n",
              "      border-right-color: var(--fill-color);\n",
              "      border-bottom-color: var(--fill-color);\n",
              "    }\n",
              "    90% {\n",
              "      border-color: transparent;\n",
              "      border-bottom-color: var(--fill-color);\n",
              "    }\n",
              "  }\n",
              "</style>\n",
              "\n",
              "  <script>\n",
              "    async function quickchart(key) {\n",
              "      const quickchartButtonEl =\n",
              "        document.querySelector('#' + key + ' button');\n",
              "      quickchartButtonEl.disabled = true;  // To prevent multiple clicks.\n",
              "      quickchartButtonEl.classList.add('colab-df-spinner');\n",
              "      try {\n",
              "        const charts = await google.colab.kernel.invokeFunction(\n",
              "            'suggestCharts', [key], {});\n",
              "      } catch (error) {\n",
              "        console.error('Error during call to suggestCharts:', error);\n",
              "      }\n",
              "      quickchartButtonEl.classList.remove('colab-df-spinner');\n",
              "      quickchartButtonEl.classList.add('colab-df-quickchart-complete');\n",
              "    }\n",
              "    (() => {\n",
              "      let quickchartButtonEl =\n",
              "        document.querySelector('#df-4e20713e-0464-4caf-9d2c-ef52b741e435 button');\n",
              "      quickchartButtonEl.style.display =\n",
              "        google.colab.kernel.accessAllowed ? 'block' : 'none';\n",
              "    })();\n",
              "  </script>\n",
              "</div>\n",
              "\n",
              "    </div>\n",
              "  </div>\n"
            ],
            "application/vnd.google.colaboratory.intrinsic+json": {
              "type": "dataframe",
              "summary": "{\n  \"name\": \"df_movies\",\n  \"rows\": 11,\n  \"fields\": [\n    {\n      \"column\": \"Unnamed: 0\",\n      \"properties\": {\n        \"dtype\": \"number\",\n        \"std\": 361.4376532692578,\n        \"min\": 0.0,\n        \"max\": 1007.0,\n        \"num_unique_values\": 8,\n        \"samples\": [\n          502.9513406156902,\n          503.0,\n          1007.0\n        ],\n        \"semantic_type\": \"\",\n        \"description\": \"\"\n      }\n    },\n    {\n      \"column\": \"Title\",\n      \"properties\": {\n        \"dtype\": \"category\",\n        \"num_unique_values\": 4,\n        \"samples\": [\n          398,\n          \"9\",\n          \"1007\"\n        ],\n        \"semantic_type\": \"\",\n        \"description\": \"\"\n      }\n    },\n    {\n      \"column\": \"Certificate\",\n      \"properties\": {\n        \"dtype\": \"category\",\n        \"num_unique_values\": 4,\n        \"samples\": [\n          11,\n          \"348\",\n          \"980\"\n        ],\n        \"semantic_type\": \"\",\n        \"description\": \"\"\n      }\n    },\n    {\n      \"column\": \"Duration\",\n      \"properties\": {\n        \"dtype\": \"category\",\n        \"num_unique_values\": 4,\n        \"samples\": [\n          114,\n          \"42\",\n          \"1007\"\n        ],\n        \"semantic_type\": \"\",\n        \"description\": \"\"\n      }\n    },\n    {\n      \"column\": \"Genre\",\n      \"properties\": {\n        \"dtype\": \"category\",\n        \"num_unique_values\": 4,\n        \"samples\": [\n          130,\n          \"100\",\n          \"1007\"\n        ],\n        \"semantic_type\": \"\",\n        \"description\": \"\"\n      }\n    },\n    {\n      \"column\": \"Rate\",\n      \"properties\": {\n        \"dtype\": \"number\",\n        \"std\": 353.53132319087564,\n        \"min\": 0.16911376575388437,\n        \"max\": 1007.0,\n        \"num_unique_values\": 6,\n        \"samples\": [\n          1007.0,\n          8.097020854021846,\n          9.3\n        ],\n        \"semantic_type\": \"\",\n        \"description\": \"\"\n      }\n    },\n    {\n      \"column\": \"Metascore\",\n      \"properties\": {\n        \"dtype\": \"number\",\n        \"std\": 229.42447080334486,\n        \"min\": 9.804517809140126,\n        \"max\": 715.0,\n        \"num_unique_values\": 8,\n        \"samples\": [\n          80.98321678321679,\n          82.0,\n          715.0\n        ],\n        \"semantic_type\": \"\",\n        \"description\": \"\"\n      }\n    },\n    {\n      \"column\": \"Description\",\n      \"properties\": {\n        \"dtype\": \"category\",\n        \"num_unique_values\": 4,\n        \"samples\": [\n          398,\n          \"9\",\n          \"1007\"\n        ],\n        \"semantic_type\": \"\",\n        \"description\": \"\"\n      }\n    },\n    {\n      \"column\": \"Cast\",\n      \"properties\": {\n        \"dtype\": \"category\",\n        \"num_unique_values\": 4,\n        \"samples\": [\n          398,\n          \"9\",\n          \"1007\"\n        ],\n        \"semantic_type\": \"\",\n        \"description\": \"\"\n      }\n    },\n    {\n      \"column\": \"Info\",\n      \"properties\": {\n        \"dtype\": \"category\",\n        \"num_unique_values\": 4,\n        \"samples\": [\n          398,\n          \"9\",\n          \"1007\"\n        ],\n        \"semantic_type\": \"\",\n        \"description\": \"\"\n      }\n    }\n  ]\n}"
            },
            "application/vnd.google.colaboratory.module+javascript": "\n      import \"https://ssl.gstatic.com/colaboratory/data_table/e523c247d1e24a05/data_table.js\";\n\n      const table = window.createDataTable({\n        data: [[\"count\",\n{\n            'v': 1007.0,\n            'f': \"1007.0\",\n        },\n1007,\n980,\n1007,\n1007,\n{\n            'v': 1007.0,\n            'f': \"1007.0\",\n        },\n{\n            'v': 715.0,\n            'f': \"715.0\",\n        },\n1007,\n1007,\n1007],\n [\"unique\",\n{\n            'v': NaN,\n            'f': \"NaN\",\n        },\n398,\n11,\n114,\n130,\n{\n            'v': NaN,\n            'f': \"NaN\",\n        },\n{\n            'v': NaN,\n            'f': \"NaN\",\n        },\n398,\n398,\n398],\n [\"top\",\n{\n            'v': NaN,\n            'f': \"NaN\",\n        },\n\"302. Throne of Blood (1957)\",\n\"R\",\n\"110 min\",\n\"Drama\",\n{\n            'v': NaN,\n            'f': \"NaN\",\n        },\n{\n            'v': NaN,\n            'f': \"NaN\",\n        },\n\"A war-hardened general, egged on by his ambitious wife, works to fulfill a prophecy that he would become lord of Spider's Web Castle.\",\n\"Director: Akira Kurosawa | Stars: Toshir\\u00f4 Mifune, Minoru Chiaki, Isuzu Yamada, Takashi Shimura\",\n\"Votes: 45,579\"],\n [\"freq\",\n{\n            'v': NaN,\n            'f': \"NaN\",\n        },\n9,\n348,\n42,\n100,\n{\n            'v': NaN,\n            'f': \"NaN\",\n        },\n{\n            'v': NaN,\n            'f': \"NaN\",\n        },\n9,\n9,\n9],\n [\"mean\",\n{\n            'v': 502.9513406156902,\n            'f': \"502.9513406156902\",\n        },\nNaN,\nNaN,\nNaN,\nNaN,\n{\n            'v': 8.097020854021846,\n            'f': \"8.097020854021846\",\n        },\n{\n            'v': 80.98321678321679,\n            'f': \"80.98321678321679\",\n        },\nNaN,\nNaN,\nNaN],\n [\"std\",\n{\n            'v': 290.7569961853129,\n            'f': \"290.7569961853129\",\n        },\nNaN,\nNaN,\nNaN,\nNaN,\n{\n            'v': 0.16911376575388437,\n            'f': \"0.16911376575388437\",\n        },\n{\n            'v': 9.804517809140126,\n            'f': \"9.804517809140126\",\n        },\nNaN,\nNaN,\nNaN],\n [\"min\",\n{\n            'v': 0.0,\n            'f': \"0.0\",\n        },\nNaN,\nNaN,\nNaN,\nNaN,\n{\n            'v': 8.0,\n            'f': \"8.0\",\n        },\n{\n            'v': 61.0,\n            'f': \"61.0\",\n        },\nNaN,\nNaN,\nNaN],\n [\"25%\",\n{\n            'v': 251.5,\n            'f': \"251.5\",\n        },\nNaN,\nNaN,\nNaN,\nNaN,\n{\n            'v': 8.0,\n            'f': \"8.0\",\n        },\n{\n            'v': 73.0,\n            'f': \"73.0\",\n        },\nNaN,\nNaN,\nNaN],\n [\"50%\",\n{\n            'v': 503.0,\n            'f': \"503.0\",\n        },\nNaN,\nNaN,\nNaN,\nNaN,\n{\n            'v': 8.0,\n            'f': \"8.0\",\n        },\n{\n            'v': 82.0,\n            'f': \"82.0\",\n        },\nNaN,\nNaN,\nNaN],\n [\"75%\",\n{\n            'v': 754.5,\n            'f': \"754.5\",\n        },\nNaN,\nNaN,\nNaN,\nNaN,\n{\n            'v': 8.1,\n            'f': \"8.1\",\n        },\n{\n            'v': 88.0,\n            'f': \"88.0\",\n        },\nNaN,\nNaN,\nNaN],\n [\"max\",\n{\n            'v': 999.0,\n            'f': \"999.0\",\n        },\nNaN,\nNaN,\nNaN,\nNaN,\n{\n            'v': 9.3,\n            'f': \"9.3\",\n        },\n{\n            'v': 100.0,\n            'f': \"100.0\",\n        },\nNaN,\nNaN,\nNaN]],\n        columns: [[\"string\", \"index\"], [\"number\", \"Unnamed: 0\"], [\"string\", \"Title\"], [\"string\", \"Certificate\"], [\"string\", \"Duration\"], [\"string\", \"Genre\"], [\"number\", \"Rate\"], [\"number\", \"Metascore\"], [\"string\", \"Description\"], [\"string\", \"Cast\"], [\"string\", \"Info\"]],\n        columnOptions: [{\"width\": \"1px\", \"className\": \"index_column\"}],\n        rowsPerPage: 25,\n        helpUrl: \"https://colab.research.google.com/notebooks/data_table.ipynb\",\n        suppressOutputScrolling: true,\n        minimumWidth: undefined,\n      });\n\n      function appendQuickchartButton(parentElement) {\n        let quickchartButtonContainerElement = document.createElement('div');\n        quickchartButtonContainerElement.innerHTML = `\n<div id=\"df-7f4d2d7f-5062-43e3-a73b-df265905f388\">\n  <button class=\"colab-df-quickchart\" onclick=\"quickchart('df-7f4d2d7f-5062-43e3-a73b-df265905f388')\"\n            title=\"Suggest charts\"\n            style=\"display:none;\">\n    \n<svg xmlns=\"http://www.w3.org/2000/svg\" height=\"24px\"viewBox=\"0 0 24 24\"\n     width=\"24px\">\n    <g>\n        <path d=\"M19 3H5c-1.1 0-2 .9-2 2v14c0 1.1.9 2 2 2h14c1.1 0 2-.9 2-2V5c0-1.1-.9-2-2-2zM9 17H7v-7h2v7zm4 0h-2V7h2v10zm4 0h-2v-4h2v4z\"/>\n    </g>\n</svg>\n  </button>\n  \n<style>\n  .colab-df-quickchart {\n      --bg-color: #E8F0FE;\n      --fill-color: #1967D2;\n      --hover-bg-color: #E2EBFA;\n      --hover-fill-color: #174EA6;\n      --disabled-fill-color: #AAA;\n      --disabled-bg-color: #DDD;\n  }\n\n  [theme=dark] .colab-df-quickchart {\n      --bg-color: #3B4455;\n      --fill-color: #D2E3FC;\n      --hover-bg-color: #434B5C;\n      --hover-fill-color: #FFFFFF;\n      --disabled-bg-color: #3B4455;\n      --disabled-fill-color: #666;\n  }\n\n  .colab-df-quickchart {\n    background-color: var(--bg-color);\n    border: none;\n    border-radius: 50%;\n    cursor: pointer;\n    display: none;\n    fill: var(--fill-color);\n    height: 32px;\n    padding: 0;\n    width: 32px;\n  }\n\n  .colab-df-quickchart:hover {\n    background-color: var(--hover-bg-color);\n    box-shadow: 0 1px 2px rgba(60, 64, 67, 0.3), 0 1px 3px 1px rgba(60, 64, 67, 0.15);\n    fill: var(--button-hover-fill-color);\n  }\n\n  .colab-df-quickchart-complete:disabled,\n  .colab-df-quickchart-complete:disabled:hover {\n    background-color: var(--disabled-bg-color);\n    fill: var(--disabled-fill-color);\n    box-shadow: none;\n  }\n\n  .colab-df-spinner {\n    border: 2px solid var(--fill-color);\n    border-color: transparent;\n    border-bottom-color: var(--fill-color);\n    animation:\n      spin 1s steps(1) infinite;\n  }\n\n  @keyframes spin {\n    0% {\n      border-color: transparent;\n      border-bottom-color: var(--fill-color);\n      border-left-color: var(--fill-color);\n    }\n    20% {\n      border-color: transparent;\n      border-left-color: var(--fill-color);\n      border-top-color: var(--fill-color);\n    }\n    30% {\n      border-color: transparent;\n      border-left-color: var(--fill-color);\n      border-top-color: var(--fill-color);\n      border-right-color: var(--fill-color);\n    }\n    40% {\n      border-color: transparent;\n      border-right-color: var(--fill-color);\n      border-top-color: var(--fill-color);\n    }\n    60% {\n      border-color: transparent;\n      border-right-color: var(--fill-color);\n    }\n    80% {\n      border-color: transparent;\n      border-right-color: var(--fill-color);\n      border-bottom-color: var(--fill-color);\n    }\n    90% {\n      border-color: transparent;\n      border-bottom-color: var(--fill-color);\n    }\n  }\n</style>\n\n  <script>\n    async function quickchart(key) {\n      const quickchartButtonEl =\n        document.querySelector('#' + key + ' button');\n      quickchartButtonEl.disabled = true;  // To prevent multiple clicks.\n      quickchartButtonEl.classList.add('colab-df-spinner');\n      try {\n        const charts = await google.colab.kernel.invokeFunction(\n            'suggestCharts', [key], {});\n      } catch (error) {\n        console.error('Error during call to suggestCharts:', error);\n      }\n      quickchartButtonEl.classList.remove('colab-df-spinner');\n      quickchartButtonEl.classList.add('colab-df-quickchart-complete');\n    }\n    (() => {\n      let quickchartButtonEl =\n        document.querySelector('#df-7f4d2d7f-5062-43e3-a73b-df265905f388 button');\n      quickchartButtonEl.style.display =\n        google.colab.kernel.accessAllowed ? 'block' : 'none';\n    })();\n  </script>\n</div>`;\n        parentElement.appendChild(quickchartButtonContainerElement);\n      }\n\n      appendQuickchartButton(table);\n    "
          },
          "metadata": {},
          "execution_count": 4
        }
      ]
    },
    {
      "cell_type": "markdown",
      "source": [
        "A detailed pivot table can be viewed as well to peruse the data.    "
      ],
      "metadata": {
        "id": "2ybNwMiiZAl4"
      }
    },
    {
      "cell_type": "code",
      "source": [
        "# query the detail in the dataframe\n",
        "df_movies"
      ],
      "metadata": {
        "id": "vAVYKKHIYmU-"
      },
      "execution_count": null,
      "outputs": []
    },
    {
      "cell_type": "markdown",
      "source": [
        "###2. Data Types    \n",
        "\n",
        "The next step is to do a sanity check of the data types of the columns of the dataframe. If there are some incorrect data types they can be corrected in this step."
      ],
      "metadata": {
        "id": "1kwBCvrgYHAR"
      }
    },
    {
      "cell_type": "code",
      "source": [
        "# check the datatypes\n",
        "print(df_movies.dtypes)"
      ],
      "metadata": {
        "id": "VTv3ecNnZhgX"
      },
      "execution_count": null,
      "outputs": []
    },
    {
      "cell_type": "markdown",
      "source": [
        "The field `Duration` is a string (object data type) with the runtime in minutes followed by the term 'min'.  A new column can be generated for `runtime` as a float by assigning the result of a split of `Duration` and the transformation of the first element in the resulting list into a float."
      ],
      "metadata": {
        "id": "nsJ6aaA-b3OU"
      }
    },
    {
      "cell_type": "code",
      "source": [
        "# Extract the numeric value of movie Duration to a new column Runtime\n",
        "# df_movies[['Runtime', 'Unit']] = df_movies[\"Duration\"].str.split(' ', 1, expand=True)\n",
        "\n",
        "df_movies[['Runtime', 'Unit']] = df_movies[\"Duration\"].str.split(' ', expand=True)\n",
        "\n",
        "df_movies['Runtime'] = df_movies['Runtime'].astype(int)\n",
        "\n",
        "del df_movies['Unit']"
      ],
      "metadata": {
        "id": "9MS8rNJFc3zF"
      },
      "execution_count": null,
      "outputs": []
    },
    {
      "cell_type": "code",
      "source": [
        "# Query the dataframe after the transformation\n",
        "df_movies[\"Runtime\"]"
      ],
      "metadata": {
        "id": "G6WPznU5djF0"
      },
      "execution_count": null,
      "outputs": []
    },
    {
      "cell_type": "code",
      "source": [
        "# Another approach would simply replace the `Duration` column in place with it's float value\n",
        "# Transformting `Duration` into int\n",
        "\n",
        "# >>> Remove the comment from the following line of code to try it\n",
        "# df_movies['Duration'] = df_movies['Duration'].str.replace(' min','').astype(int)\n"
      ],
      "metadata": {
        "id": "dmfXl_qwgHYi"
      },
      "execution_count": null,
      "outputs": []
    },
    {
      "cell_type": "code",
      "source": [
        "# Review the data types of each column again\n",
        "df_movies.dtypes"
      ],
      "metadata": {
        "id": "AtyXzTYegyxp"
      },
      "execution_count": null,
      "outputs": []
    },
    {
      "cell_type": "markdown",
      "source": [
        "###3. Find Missing Values    \n",
        "\n",
        "The next step is to find the number of missing values across the columns of the dataframe. It’s important to understand the count of nulls so determine how best to treat them.    "
      ],
      "metadata": {
        "id": "DIKYq0WGhBYi"
      }
    },
    {
      "cell_type": "code",
      "source": [
        "# find nulls or missing values\n",
        "df_movies.isnull().sum()"
      ],
      "metadata": {
        "id": "UNaeaIcmhTbR"
      },
      "execution_count": null,
      "outputs": []
    },
    {
      "cell_type": "markdown",
      "source": [
        "###4. Missing Values Treatment    \n",
        "\n",
        "Using the count of missing values and any other descriptive statistics applicable, the next step is to treat the columns with missing values.    \n",
        "\n",
        "For illustration purposes, the nulls are filled with the mean value of the columns, although there are more sophisticated methods of missing value treatment.   \n"
      ],
      "metadata": {
        "id": "9PUaQFA-h5Nv"
      }
    },
    {
      "cell_type": "code",
      "source": [
        "# Replacing nulls with mean for numeric values and mode for categorical values\n",
        "\n",
        "df_movies['Metascore'].fillna(df_movies['Metascore'].mean())\n",
        "\n",
        "df_movies['Certificate'].fillna(df_movies['Certificate'].mode())\n"
      ],
      "metadata": {
        "id": "Qh1_gHzwh7ul"
      },
      "execution_count": null,
      "outputs": []
    },
    {
      "cell_type": "code",
      "source": [
        "df_movies.head()\n"
      ],
      "metadata": {
        "id": "x_f_BvBoinYy"
      },
      "execution_count": null,
      "outputs": []
    },
    {
      "cell_type": "markdown",
      "source": [
        "###5. Find and Count Duplicates"
      ],
      "metadata": {
        "id": "X1IQZ8-WL6UJ"
      }
    },
    {
      "cell_type": "markdown",
      "source": [
        "The next step requires some context and/or intuition regarding the data.  On first inspection, there may be data which appears to be redundant but is actually categorical data.  Most data sources will not be normalized so this is often the case.  Later in this workbook there is an exercise on Transformations and Feature Extraction which discusses the fact that some categorical data may have data entry or other errors which require their own special treatment.    \n",
        "\n",
        "Finding duplicates and wrangingling categorical data can sometimes be an iterative process of discovery, trial and error, then treatement.    \n",
        "\n",
        "The initial activity in dealing with duplicates includes:    \n",
        "\n",
        "1. Finding duplicates    \n",
        "2. Counting duplicates    \n",
        "3. Displaying duplicate rows with `loc`\n",
        "3. Determining duplicates treatment     \n",
        "\n",
        "The following snippets of code give examples of 1 and 2 above:    \n",
        "\n"
      ],
      "metadata": {
        "id": "XjZxpavOT8Tf"
      }
    },
    {
      "cell_type": "code",
      "source": [
        "# Finding duplicates across the dataframe\n",
        "# Use the `.duplicated()` method\n",
        "df_movies.duplicated()"
      ],
      "metadata": {
        "id": "Wr639zzkVHD3"
      },
      "execution_count": null,
      "outputs": []
    },
    {
      "cell_type": "code",
      "source": [
        "# To consider certain columns such as `Title` for identifying duplicates\n",
        "df_movies.duplicated(subset=['Title'])"
      ],
      "metadata": {
        "id": "i4qvsqJRhtjT"
      },
      "execution_count": null,
      "outputs": []
    },
    {
      "cell_type": "markdown",
      "source": [
        "Pandas `duplicated()` returns a boolean Series. However, it is not practical to see a list of True and False when we need to perform some data analysis. The Pandas `loc` data selector can be used to extract those duplicate rows:"
      ],
      "metadata": {
        "id": "sg4ofFvbSg_e"
      }
    },
    {
      "cell_type": "code",
      "source": [
        "# Use of `loc` allows us to see the rows that were identified by duplicated()\n",
        "df_movies.loc[df_movies.duplicated(), :]"
      ],
      "metadata": {
        "id": "gCwtLOcKSm9h"
      },
      "execution_count": null,
      "outputs": []
    },
    {
      "cell_type": "markdown",
      "source": [
        "###6. Duplicates Treatment"
      ],
      "metadata": {
        "id": "0jQC4ajhL_J5"
      }
    },
    {
      "cell_type": "markdown",
      "source": [
        "There are two fundamental concepts in duplicate treament to consider:\n",
        "\n",
        "1. Determing duplicates to retain with `keep`    \n",
        "2. Dropping duplicates      \n"
      ],
      "metadata": {
        "id": "zGTr2QPESP4K"
      }
    },
    {
      "cell_type": "markdown",
      "source": [
        "**Retain duplicates with `keep`**\n",
        "\n",
        "There is an argument `keep` in Pandas duplicated() to determine which duplicates to mark. `keep` defaults to 'first', which means the first occurrence gets kept, and all others get identified as duplicates.   \n"
      ],
      "metadata": {
        "id": "uLCoY_3-Talt"
      }
    },
    {
      "cell_type": "code",
      "source": [
        "# `keep` defaults to 'first'\n",
        "df_movies.loc[df_movies.duplicated(keep='first'), :]"
      ],
      "metadata": {
        "id": "jFuho0LmTgZV"
      },
      "execution_count": null,
      "outputs": []
    },
    {
      "cell_type": "markdown",
      "source": [
        "An argument can be used to change it to 'last' keep the last occurrence and mark all others as duplicates.  "
      ],
      "metadata": {
        "id": "Ilusn23QTugZ"
      }
    },
    {
      "cell_type": "code",
      "source": [
        "# `keep` defaults to 'last'\n",
        "df_movies.loc[df_movies.duplicated(keep='last'), :]"
      ],
      "metadata": {
        "id": "Bi0OlssgTmqL"
      },
      "execution_count": null,
      "outputs": []
    },
    {
      "cell_type": "markdown",
      "source": [
        "There is a third option we can use `keep=False`. It marks all duplicates as True and allows viewing all duplicate rows."
      ],
      "metadata": {
        "id": "KhZ9_HaRUA2o"
      }
    },
    {
      "cell_type": "code",
      "source": [
        "# There is a third option we can use 'keep=False'. It marks all duplicates as True\n",
        "df_movies.loc[df_movies.duplicated(keep=False), :]"
      ],
      "metadata": {
        "id": "EPCb8mvJUFcy"
      },
      "execution_count": null,
      "outputs": []
    },
    {
      "cell_type": "markdown",
      "source": [
        "**Drop duplicates**    \n",
        "\n",
        "The Pandas built-in method `drop_duplicates()` will drop duplicate rows."
      ],
      "metadata": {
        "id": "UcXHHiYcT1SB"
      }
    },
    {
      "cell_type": "code",
      "source": [
        "# Note the change in the number of rows before and after dropping duplicates\n",
        "# It is not performed in place by default,\n",
        "df_movies.drop_duplicates()"
      ],
      "metadata": {
        "id": "AEcFgCDAUaHe"
      },
      "execution_count": null,
      "outputs": []
    },
    {
      "cell_type": "markdown",
      "source": [
        "By default, this method returns a new DataFrame with duplicate rows removed. We can set the argument inplace=True to remove duplicates from the original DataFrame."
      ],
      "metadata": {
        "id": "VoALZWAwUjSe"
      }
    },
    {
      "cell_type": "code",
      "source": [
        "# Note the change in the number of rows before and after dropping duplicates\n",
        "# It is not performed in place by default, it can be changed it to in place by `inplace=True`df.drop_duplicates(inplace=True)\n",
        "df_movies.drop_duplicates(inplace=True)"
      ],
      "metadata": {
        "id": "dkPHoQ_5UwJD"
      },
      "execution_count": null,
      "outputs": []
    },
    {
      "cell_type": "markdown",
      "source": [
        "The argument keep can be set for `drop_duplicates()` as well to determine which duplicates to keep. It defaults to `'first'` to keep the first occurrence and drop all other duplicates.    \n",
        "\n",
        "\n",
        "Similarly, `drop_duplicates` can be set `keep` to 'last' to keep the last occurrence and drop other duplicates."
      ],
      "metadata": {
        "id": "yxKkDWLzVAR7"
      }
    },
    {
      "cell_type": "code",
      "source": [
        "# Use keep='last' to keep the last occurrence\n",
        "df_movies.drop_duplicates(keep='last')"
      ],
      "metadata": {
        "id": "k0FPmfomVJJ7"
      },
      "execution_count": null,
      "outputs": []
    },
    {
      "cell_type": "markdown",
      "source": [
        "`drop_duplicates` can also be set with `keep` assigned the value **False** to drop all duplicates."
      ],
      "metadata": {
        "id": "WodkptrgVS4N"
      }
    },
    {
      "cell_type": "code",
      "source": [
        "# To drop all duplicates\n",
        "df_movies.drop_duplicates(keep=False)"
      ],
      "metadata": {
        "id": "KQKTRHVMVdBN"
      },
      "execution_count": null,
      "outputs": []
    },
    {
      "cell_type": "markdown",
      "source": [
        "**Considering certain columns for dropping duplicates**    \n",
        "\n",
        "\n",
        "Similarly, to consider certain columns for dropping duplicates, pass a list of columns to the argument subset:    \n"
      ],
      "metadata": {
        "id": "ZFWw-DjdVigP"
      }
    },
    {
      "cell_type": "code",
      "source": [
        "# Similarly, we can consider a certain columns for dropping duplicates\n",
        "df_movies.drop_duplicates(subset=['Title'])"
      ],
      "metadata": {
        "id": "pn_f7CMhVoy6"
      },
      "execution_count": null,
      "outputs": []
    },
    {
      "cell_type": "markdown",
      "source": [
        "... and do that in-place."
      ],
      "metadata": {
        "id": "V53p9fLfV1tc"
      }
    },
    {
      "cell_type": "code",
      "source": [
        "# Consider a certain columns for dropping duplicates in-place\n",
        "df_movies.drop_duplicates(subset=['Title'], inplace=True)"
      ],
      "metadata": {
        "id": "QV9yELBVV4fG"
      },
      "execution_count": null,
      "outputs": []
    },
    {
      "cell_type": "markdown",
      "source": [
        "Invoking the `duplicated()` method will confirm that duplicate rows have been dropped."
      ],
      "metadata": {
        "id": "ZzXipNxKYDvx"
      }
    },
    {
      "cell_type": "code",
      "source": [
        "# Use of `loc` allows us to see the rows that were identified by duplicated()\n",
        "df_movies.loc[df_movies.duplicated(), :]"
      ],
      "metadata": {
        "id": "ngJDLufzYLJS"
      },
      "execution_count": null,
      "outputs": []
    },
    {
      "cell_type": "markdown",
      "source": [
        "###7. Analyze for Outliers    \n",
        "\n",
        "The next step is to check for outliers. There are multiple ways of checking the outliers, the graphical method vis presented here. Two continuous variables (`Metascore` and `Runtime`) have been select to be checked for outliers by evaluating a histogram for each column.    "
      ],
      "metadata": {
        "id": "c7CRu70-jb2U"
      }
    },
    {
      "cell_type": "code",
      "source": [
        "# Distribution of Metascores\n",
        "plt.hist(df_movies['Metascore'],bins = 25)\n",
        "plt.show()"
      ],
      "metadata": {
        "id": "_3D4aRxZjdAu"
      },
      "execution_count": null,
      "outputs": []
    },
    {
      "cell_type": "code",
      "source": [
        "#check the minimum `Metascore`\n",
        "df_movies['Metascore'].min()\n",
        "# output : ?"
      ],
      "metadata": {
        "id": "8Qzn8BwhnvOq"
      },
      "execution_count": null,
      "outputs": []
    },
    {
      "cell_type": "code",
      "source": [
        "# Distribution of Runtimes\n",
        "plt.hist(df_movies['Runtime'],bins = 25)\n",
        "plt.show()"
      ],
      "metadata": {
        "id": "bWG3ilD3jwKR"
      },
      "execution_count": null,
      "outputs": []
    },
    {
      "cell_type": "code",
      "source": [
        "#check the minimum `Runtime`\n",
        "df_movies['Runtime'].min()\n",
        "# output : ?"
      ],
      "metadata": {
        "id": "k7EDome8nzYE"
      },
      "execution_count": null,
      "outputs": []
    },
    {
      "cell_type": "code",
      "source": [
        "#check the maximum `Runtime`\n",
        "df_movies['Runtime'].max()\n",
        "# output : ?"
      ],
      "metadata": {
        "id": "6DNwh1Ron_33"
      },
      "execution_count": null,
      "outputs": []
    },
    {
      "cell_type": "markdown",
      "source": [
        "### 8. Outlier Treatment\n",
        "\n",
        "\n",
        "The next step is to treat the outliers observed in the previous step. There are different ways of treating the outliers such as:     \n",
        "1. Capping the minimum and maximum value limits\n",
        "2. Removing the rows with outlier values   \n",
        "\n",
        "\n",
        "Although there is nothing off with the distribution of Metascores, for illustration purposes, the minimum `Metascore` value is capped at 65.    \n",
        "\n",
        "\n",
        "And with respect to the Runtimes, any rows with a `Runtime` in excess of 200 is deleted as are rows with a `Runtime` of less than 60.   \n",
        "\n"
      ],
      "metadata": {
        "id": "IBl-AtQFkAai"
      }
    },
    {
      "cell_type": "code",
      "source": [
        "# Capping the minimum Metascore to 65\n",
        "df_movies.loc[df_movies['Metascore'] < 65,'Metascore'] = 65\n",
        "\n",
        "#check the minimum `Metascore`\n",
        "df_movies['Metascore'].min()\n",
        "# output : 65.0"
      ],
      "metadata": {
        "id": "-kJvPiczkuxx"
      },
      "execution_count": null,
      "outputs": []
    },
    {
      "cell_type": "markdown",
      "source": [
        "The range of `Metascore` values can be evaluated again with a histogram.    \n"
      ],
      "metadata": {
        "id": "XERinlJYYjyD"
      }
    },
    {
      "cell_type": "code",
      "source": [
        "# Distribution of Metascores\n",
        "plt.hist(df_movies['Metascore'],bins = 25)\n",
        "plt.show()"
      ],
      "metadata": {
        "id": "BEtw9G_ZYu39"
      },
      "execution_count": null,
      "outputs": []
    },
    {
      "cell_type": "markdown",
      "source": [
        "Drop runtimes of less than 60 or greater than 200.    \n",
        "\n",
        "*note the use of the* `|` *set operation to combine the results of each conditional test.*"
      ],
      "metadata": {
        "id": "Mb-AsVTXY0Iq"
      }
    },
    {
      "cell_type": "code",
      "source": [
        "# Dropping any rows where Runtime exceeeds 200 or is below 60\n",
        "df_movies.drop(df_movies[(df_movies.Runtime > 200) | (df_movies.Runtime < 60)].index, inplace=True)\n"
      ],
      "metadata": {
        "id": "W9ielgEJl8GP"
      },
      "execution_count": null,
      "outputs": []
    },
    {
      "cell_type": "code",
      "source": [
        "#check the minimum `Runtime`\n",
        "df_movies['Runtime'].min()\n",
        "# output : 60"
      ],
      "metadata": {
        "id": "6pIR_4fZoIOV"
      },
      "execution_count": null,
      "outputs": []
    },
    {
      "cell_type": "code",
      "source": [
        "#check the maximum `Runtime`\n",
        "df_movies['Runtime'].max()\n",
        "# output : 200?"
      ],
      "metadata": {
        "id": "NgWLv7nyoTij"
      },
      "execution_count": null,
      "outputs": []
    },
    {
      "cell_type": "code",
      "source": [
        "# distribution of Runtimes\n",
        "plt.hist(df_movies['Runtime'],bins = 25)\n",
        "plt.show()"
      ],
      "metadata": {
        "id": "4Q9UAspZmXvR"
      },
      "execution_count": null,
      "outputs": []
    },
    {
      "cell_type": "markdown",
      "source": [
        "###9. Ask 'Who?'    \n",
        "\n",
        "\n",
        "The next step to answer are questions related to people, members, stakeholders, etc.\n",
        "\n",
        "In films, there are actors, directors, and cast members.  Some 'who' questions to raise could include:  \n",
        "\n",
        "* Who has directed the most number of top IMDB movies? (univariate)    \n",
        "\n",
        "\n",
        "* Who has acted in most top IMDB movies? (univariate)    \n",
        "\n",
        "\n",
        "* Which Actor-Director combination has the most top IMDB movies? (bivariate)    \n",
        "\n",
        "\n",
        "* Who provided the most music in top IMDB movies ? (Data not available)    \n",
        "\n",
        "\n",
        "And More …    \n",
        "\n"
      ],
      "metadata": {
        "id": "YXncGAO6pfLU"
      }
    },
    {
      "cell_type": "markdown",
      "source": [
        "*to use the code in the following snippet, extraction of data values from the `Cast` column would be required as a preliminary transformation.*\n"
      ],
      "metadata": {
        "id": "lQwa4C8wquzq"
      }
    },
    {
      "cell_type": "code",
      "source": [
        "### >>> The sample code here relies on columns in the original dataset used by Anmol Tomar\n",
        "### >>> The columns required by the code in this snippet are not available in the Kaggle dataset\n",
        "\n",
        "## Who has directed the most number of top IMDB movies ?\n",
        "# df_movies.groupby(['Director']).agg({'Series_Title':'count'}).reset_index().rename(columns = {'Series_Title':'count'}).\\\n",
        "# sort_values('count',ascending = False).head(5)\n",
        "\n",
        "## Who has acted in the most number of top movies\n",
        "# df_movies.groupby(['Star1']).agg({'Series_Title':'count'}).reset_index().rename(columns = {'Series_Title':'count'}).\\\n",
        "# sort_values('count',ascending = False).head(5)\n",
        "\n",
        "## Director - Actor works best\n",
        "# df_movies.groupby(['Director','Star1'])['Series_Title'].count().reset_index().\\\n",
        "# rename(columns = {'Series_Title':'Count'}).sort_values('Count',ascending = False).head(5)\n"
      ],
      "metadata": {
        "id": "bPSe912Mpxvc"
      },
      "execution_count": null,
      "outputs": []
    },
    {
      "cell_type": "markdown",
      "source": [
        "###10. Ask 'When?'    \n",
        "\n",
        "\n",
        "The next step is to answer questions related to the time dimension (year, quarter, month, week, day, time-of-day, hour, minute, etc.)    \n",
        "\n",
        "Considering film data, the following type of question could be asked:    \n",
        "\n",
        "\n",
        "* Find the years with most movies in IMDB top 1000 ? (univariate)    \n",
        "\n",
        "\n"
      ],
      "metadata": {
        "id": "aTen4oxarnHt"
      }
    },
    {
      "cell_type": "markdown",
      "source": [
        "*to use the code in the following snippet, extraction of data values from the `Title` column would be required as a preliminary transformation.*"
      ],
      "metadata": {
        "id": "VwE9jyYssYyF"
      }
    },
    {
      "cell_type": "code",
      "source": [
        "### >>> The sample code here relies on columns in the original dataset used by Anmol Tomar\n",
        "### >>> The columns required by the code in this snippet are not available in the Kaggle dataset\n",
        "\n",
        "## Finding years with most movies in top 1000\n",
        "# year_dis = df_movies.groupby('Released_Year')['Series_Title'].count().reset_index().\\\n",
        "# rename(columns = {'Series_Title':'Count'}).sort_values('Count',ascending = False).head(10)\n",
        "\n",
        "# plt.bar(year_dis['Released_Year'].astype(str), year_dis['Count'], width = 0.5)\n",
        "# plt.xlabel('Years')\n",
        "# plt.ylabel('Number of Movies')\n",
        "# plt.title('Years with most movies in IMDB top 1000')\n",
        "# plt.show()"
      ],
      "metadata": {
        "id": "3Po6QyiMqgdb"
      },
      "execution_count": null,
      "outputs": []
    },
    {
      "cell_type": "markdown",
      "source": [
        "###11. Ask 'Where?'    \n",
        "\n",
        "The next step is to look at the things from the location or place perspective, for example, country, state, regions etc.  Geolocation can also be used in determing the 'where' attribute of data. For location features a variety of data elements may be used, including:    \n",
        "\n",
        "* Formal country, region, jurisdiction decriptors (see ISO codes)    \n",
        "\n",
        "* Postal codes\n",
        "\n",
        "* Longitude and Lattitude (GPS coordinates)\n",
        ">o may be express as degrees(°), minutes('), seconds(\")    \n",
        ">o may be expressed as decimal values (which can be translated to °, ', \")  \n",
        "> *note that there are 360° degrees around the earth, each minute' is 1/60th of a degree, and each second\" is 1/60th of a minute -- akin to minutes and seconds as fractions of hours when measuring time*\n",
        "\n",
        "* Mappings    \n",
        ">o phone number country codes and areas codes may generally map to location    \n",
        ">o IP address may map to location (consider VPN impacts)    \n",
        "\n",
        "\n",
        "For film data, the following question could be posed:    \n",
        "\n",
        "\n",
        "* Find countries with most movies in IMDB top 1000.\n",
        "\n",
        "\n",
        "The dataset does not have the data to answer this question.   \n",
        "Research should be as exhaustive as possible and not limited based on data availability.  Additional sources or enrichment approaches should be considered to answer pertinent questions.    \n",
        "\n"
      ],
      "metadata": {
        "id": "adAccQcNsdgU"
      }
    },
    {
      "cell_type": "markdown",
      "source": [
        "###12. Ask 'What?  Which?  How?'    \n",
        "\n",
        "\n",
        "The next and final step is formulating questions about aspects not covered in the first nine steps. These questions are not related to people, place, or time but everything apart from these. Formulating such questions can be quite subjective and takes some time and experience to develop intuition and a facility.\n",
        "\n",
        "With respect to film data, such question might include:    \n",
        "\n",
        "* Which genres are featured most in the top 1000?\n",
        "\n",
        "\n",
        "* What is the duration of the top movies?\n",
        "\n",
        "\n",
        "* What is the correlation between the rating and gross earning?\n",
        "\n",
        "\n",
        "and more…\n",
        "\n",
        "For illustration purposes, the first question is approached using the following code:\n",
        "\n"
      ],
      "metadata": {
        "id": "Iz0se6PdtOw0"
      }
    },
    {
      "cell_type": "code",
      "source": [
        "## Which genres of film are featured most in top 1000 ?\n",
        "genre_dis = df_movies.groupby('Genre')['Title'].count().reset_index().\\\n",
        "rename(columns = {'Title':'Count'}).sort_values('Count',ascending = False).head(5)\n",
        "fig, ax = plt.subplots()\n",
        "plt.bar(genre_dis['Genre'], genre_dis['Count'], width = 0.5)\n",
        "plt.setp(ax.get_xticklabels(), rotation=30, horizontalalignment='right')\n",
        "plt.show()"
      ],
      "metadata": {
        "id": "qyzK4zcEuK32"
      },
      "execution_count": null,
      "outputs": []
    },
    {
      "cell_type": "markdown",
      "source": [
        "\n",
        "\n",
        "---\n",
        "\n"
      ],
      "metadata": {
        "id": "mEitLngMuq3n"
      }
    },
    {
      "cell_type": "markdown",
      "source": [
        "###13. Transformations and Features Extraction    \n",
        "\n",
        "While some data may need to be sourced from additional research, there can be data embedded in compound/complex data types which through a process of analysis, and transformation may be extracted as useful features.  This process can utilize different tools and techniques, including:    \n",
        "\n",
        "* **Regex** (Regular Expressions)    \n",
        "\n",
        "* **NLP** (Natural Language Processing)    \n",
        "\n",
        "* **Image** Detection (for image blobs)  \n",
        "\n",
        "\n",
        "Once initial feature data is generated, it may need to be treated using the approach used for the raw data sourced, including:    \n",
        "\n",
        "*  Find and treat missing values    \n",
        "\n",
        "*  Find and treat outliers    \n",
        "\n",
        "*  Find and treat duplicates    \n",
        "\n",
        "*  Standardize/scrub categorical values (may be required to clean data)   \n",
        "\n"
      ],
      "metadata": {
        "id": "RdA1Lc3KPfqj"
      }
    },
    {
      "cell_type": "markdown",
      "source": [
        "\n",
        "\n",
        "---\n",
        "\n"
      ],
      "metadata": {
        "id": "6KcrFhvepRm1"
      }
    },
    {
      "cell_type": "markdown",
      "source": [
        "##<font color='green'></b>II - PRACTICE EXERCISE</b></font>      \n",
        "  \n",
        "\n",
        "<font color='green'>Use regular expressions to derive the following features which can be used in the code provided by the original Anmol Tomar analysis, then execute the commented-out code to perform the analysis on the features extracted:</font>      \n",
        "  \n",
        "  \n",
        "1. <font color='green'>**Director** (used when asking 'Who?')</font>      \n",
        "\n",
        "2. <font color='green'>**Star1** (used when asking 'Who?')</font>        \n",
        "\n",
        "3. <font color='green'>**Released_Year**  (used when asking 'When?')</font>    \n",
        "\n",
        "\n",
        "<font color='green'>In addition, the following feature name should be changed in the original source code because the dataset used here refers to a feature `Title` not 'Series_Title`:</font>      \n",
        "\n",
        "* <font color='green'>**Series_Title** (should be `Title`)</font>  \n"
      ],
      "metadata": {
        "id": "9tWRA0MIPCWq"
      }
    },
    {
      "cell_type": "markdown",
      "source": [
        "\n",
        "\n",
        "---\n",
        "\n"
      ],
      "metadata": {
        "id": "ur_4EPb2TR9v"
      }
    }
  ]
}